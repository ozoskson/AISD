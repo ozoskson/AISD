{
 "cells": [
  {
   "cell_type": "markdown",
   "id": "255f2820-94db-4204-86bb-7ed8afc25bb4",
   "metadata": {},
   "source": [
    "1) Реализовать простейший динамический массив, поддерживающий добавление элемента в конец массива при помощи метода append(e).\n",
    "Также должны поддерживаться следующие операции:\n",
    "•\tизвлечение элемента по индексу;\n",
    "•\tустанавка нового значения по индексу;\n",
    "•\tполучение текущей длины массива.\n",
    "1.1) Добавить реализацию удаления элемента из любого места массива и поддержку корректного вывода массива при помощи функции print."
   ]
  },
  {
   "cell_type": "code",
   "execution_count": 2,
   "id": "eb0b145f-d1f2-4e64-91a6-22faa6dacd82",
   "metadata": {},
   "outputs": [
    {
     "name": "stdout",
     "output_type": "stream",
     "text": [
      "5\n",
      "15\n",
      "2\n",
      "[15, 10]\n",
      "[15]\n"
     ]
    }
   ],
   "source": [
    "class DynamicArray:\n",
    "    def __init__(self):    #создание пустого массива\n",
    "        self._data = []\n",
    "        self._size = 0  # Текущий размер массива\n",
    "\n",
    "    def append(self, e):\n",
    "        self._data.append(e)    #добавляем элемент\n",
    "        self._size += 1    #увеличиваем размер\n",
    "\n",
    "    def get(self, index):    # элемент по индексу\n",
    "        if 0 <= index < self._size:    #определяем есть ли элемент с таким индексом\n",
    "            return self._data[index]\n",
    "        else:\n",
    "            raise IndexError(\"Index out of bounds\")\n",
    "\n",
    "    def set(self, index, value):    #новое значение по указанному индексу\n",
    "        if 0 <= index < self._size:\n",
    "            self._data[index] = value    #определяем есть ли элемент с таким индексом\n",
    "        else:\n",
    "            raise IndexError(\"Index out of bounds\")\n",
    "\n",
    "    def length(self):\n",
    "        return self._size\n",
    "\n",
    "    def delete(self, index):    #удаление элемента по индексу\n",
    "        if 0 <= index < self._size:\n",
    "            self._data.pop(index)\n",
    "            self._size -= 1\n",
    "\n",
    "    def __str__(self):    #печать на экран\n",
    "        return f\"[{', '.join(str(item) for item in self._data)}]\"\n",
    "\n",
    "dynamic_array = DynamicArray()\n",
    "dynamic_array.append(5)\n",
    "dynamic_array.append(10)\n",
    "print(dynamic_array.get(0))  \n",
    "dynamic_array.set(0, 15)\n",
    "print(dynamic_array.get(0))  \n",
    "print(dynamic_array.length()) \n",
    "print(dynamic_array)\n",
    "dynamic_array.delete(1)\n",
    "print(dynamic_array)"
   ]
  },
  {
   "cell_type": "markdown",
   "id": "06368fa8-b7f2-4546-8197-b39d59ecc157",
   "metadata": {},
   "source": [
    "2) Реализовать генератор, который возвращает значение поочередно извлекаемое из конца двух очередей (в качестве очереди используется deque из collections). Если очередь из которой извлекается элемент пуста - генератор заканчивает работу."
   ]
  },
  {
   "cell_type": "code",
   "execution_count": null,
   "id": "e79032a4-da83-4679-9ec9-21d9fd0bc759",
   "metadata": {},
   "outputs": [],
   "source": []
  },
  {
   "cell_type": "markdown",
   "id": "be2cdfea-681c-4255-844b-459990f8fa82",
   "metadata": {},
   "source": [
    "3) Реализовать классы с медодом action():\n",
    "а) Класс Pump - в методе action() извлекает очередное значение из генератора и помещает значение в очередь (очередь передается в конструктор)."
   ]
  },
  {
   "cell_type": "code",
   "execution_count": 5,
   "id": "0f55dea2-80c1-4064-8d87-55e254428014",
   "metadata": {},
   "outputs": [
    {
     "name": "stdout",
     "output_type": "stream",
     "text": [
      "deque([0, 2, 4, 6, 8])\n"
     ]
    }
   ],
   "source": [
    "from collections import deque\n",
    "class Pump:\n",
    "    def __init__(self, generator, queue):\n",
    "        self.generator = generator\n",
    "        self.queue = queue\n",
    "\n",
    "    def action(self):\n",
    "        try:\n",
    "            value = next(self.generator)  # Извлечение значения из генератора\n",
    "            self.queue.append(value)  # Помещение значения в очередь\n",
    "        except StopIteration:\n",
    "            print(\"Генератор завершил свою работу.\")\n",
    "\n",
    "def simple_generator():\n",
    "    for i in range(5):\n",
    "        yield i*2\n",
    "        \n",
    "# Создаем генератор и очередь\n",
    "gen = simple_generator()        \n",
    "queue = deque()\n",
    "\n",
    "pump = Pump(gen, queue)\n",
    "for _ in range(5):\n",
    "    pump.action()\n",
    "print(queue)"
   ]
  },
  {
   "cell_type": "markdown",
   "id": "6889ff39-f39e-4ed7-84bb-fd8d215061d0",
   "metadata": {},
   "source": [
    "b) Класс MultiAction - при вызове метода action() n раз вызвает метод action() класса, переданного в конструкторе. Число n также определяется в конструкторе."
   ]
  },
  {
   "cell_type": "code",
   "execution_count": 6,
   "id": "c178a63a-2829-4f81-b59c-f5025f97b7ad",
   "metadata": {},
   "outputs": [
    {
     "name": "stdout",
     "output_type": "stream",
     "text": [
      "deque([0, 1, 2, 3])\n"
     ]
    }
   ],
   "source": [
    "from collections import deque\n",
    "class MultiAction:\n",
    "    def __init__(self, action_object, n):\n",
    "        self.action_object = action_object    #у этого объекта будем вызывать метод action()\n",
    "        self.n = n    #сколько раз будем вызывать метод\n",
    "\n",
    "    def action(self):\n",
    "        for _ in range(self.n):    #вызываем сам вывод n раз\n",
    "            self.action_object.action()\n",
    "\n",
    "class Pump:\n",
    "    def __init__(self, generator, queue):\n",
    "        self.generator = generator\n",
    "        self.queue = queue\n",
    "\n",
    "    def action(self):\n",
    "        try:\n",
    "            value = next(self.generator)  # Извлечение значения из генератора\n",
    "            self.queue.append(value)  # Помещение значения в очередь\n",
    "        except StopIteration:\n",
    "            print(\"Генератор завершил свою работу.\")\n",
    "\n",
    "def generator():\n",
    "    for i in range(5):\n",
    "        yield i\n",
    "\n",
    "gen = generator()\n",
    "queue = deque()\n",
    "\n",
    "\n",
    "pump = Pump(gen, queue)\n",
    "\n",
    "multi_action = MultiAction(pump, 4)\n",
    "\n",
    "multi_action.action()\n",
    "\n",
    "print(queue)"
   ]
  },
  {
   "cell_type": "markdown",
   "id": "97fb2a88-a7eb-466a-b1fe-4e654c8963b3",
   "metadata": {},
   "source": [
    "c) Класс MultiPump - в методе action() извлекает очередное значение из генератора и помещает значение в одну из очередей (очереди передается в конструкторе); очереди , в которые помещаются очередные значения, меняются по порядку."
   ]
  },
  {
   "cell_type": "code",
   "execution_count": 7,
   "id": "802251be-8078-4d8f-95b5-9882d9761de2",
   "metadata": {},
   "outputs": [
    {
     "name": "stdout",
     "output_type": "stream",
     "text": [
      "Добавлено значение 0 в очередь 0.\n",
      "Добавлено значение 1 в очередь 1.\n",
      "Добавлено значение 2 в очередь 0.\n",
      "Добавлено значение 3 в очередь 1.\n",
      "Очередь 0: [0, 2]\n",
      "Очередь 1: [1, 3]\n"
     ]
    }
   ],
   "source": [
    "from collections import deque\n",
    "\n",
    "class MultiPump:\n",
    "    def __init__(self, generator, queues):\n",
    "        self.generator = generator\n",
    "        self.queues = queues\n",
    "        self.current_queue_index = 0  # Индекс текущей очереди для вставки\n",
    "\n",
    "    def action(self):\n",
    "        try:\n",
    "            value = next(self.generator)  # Извлечение значения из генератора\n",
    "            # Помещение значения в текущую очередь\n",
    "            self.queues[self.current_queue_index].append(value)\n",
    "            print(f\"Добавлено значение {value} в очередь {self.current_queue_index}.\")\n",
    "            # Смена индекса очереди для следующей вставки\n",
    "            self.current_queue_index = (self.current_queue_index + 1) % len(self.queues)\n",
    "        except StopIteration:\n",
    "            print(\"Генератор завершил свою работу.\")\n",
    "\n",
    "def generator():\n",
    "    for i in range(5):\n",
    "        yield i\n",
    "\n",
    "gen = generator()\n",
    "queues = [deque(), deque()]\n",
    "\n",
    "multi_pump = MultiPump(gen, queues)\n",
    "\n",
    "for _ in range(4):\n",
    "    multi_pump.action()\n",
    "    \n",
    "for i, queue in enumerate(queues):\n",
    "    print(f\"Очередь {i}: {list(queue)}\")"
   ]
  },
  {
   "cell_type": "code",
   "execution_count": null,
   "id": "0c364fd3-9cb7-4fce-bad4-933cc5a6adae",
   "metadata": {},
   "outputs": [],
   "source": []
  }
 ],
 "metadata": {
  "kernelspec": {
   "display_name": "Python 3 (ipykernel)",
   "language": "python",
   "name": "python3"
  },
  "language_info": {
   "codemirror_mode": {
    "name": "ipython",
    "version": 3
   },
   "file_extension": ".py",
   "mimetype": "text/x-python",
   "name": "python",
   "nbconvert_exporter": "python",
   "pygments_lexer": "ipython3",
   "version": "3.12.2"
  }
 },
 "nbformat": 4,
 "nbformat_minor": 5
}
