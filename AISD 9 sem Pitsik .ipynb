{
 "cells": [
  {
   "cell_type": "code",
   "execution_count": 24,
   "id": "bf76512d",
   "metadata": {},
   "outputs": [],
   "source": [
    "l1 = ['1', '123', '123', '12', '1', '123']\n",
    "l2 = [2, 4, -2, -3, 0 , 11 , 3, -1]\n",
    "\n",
    "d4 = {1: 10, 2: 20, 3: 30, 4: 40, 5: 50, 6: 60}\n",
    "d5 = {'a': 3, 'b': 4, 'c': 5, 'd': 6, 'e': 7, 'f': 8, 'g': 9}\n",
    "d6 = {'e': 20, 'f': 21, 'g': 22, 'h': 23, 'i': 24, 'j': 25, 'k': 26, 'l': 27}\n",
    "\n"
   ]
  },
  {
   "cell_type": "markdown",
   "id": "04d76a23",
   "metadata": {},
   "source": [
    "4.13) Используюя список l1 создать список, в ктором каждый элемент списка l1 будет заменен значением длинны строки соответствующего элемента в списке l1. Использовать генераторы, решить задачу в одну строку."
   ]
  },
  {
   "cell_type": "code",
   "execution_count": 4,
   "id": "54eea3ff",
   "metadata": {},
   "outputs": [
    {
     "data": {
      "text/plain": [
       "[1, 3, 3, 2, 1, 3]"
      ]
     },
     "execution_count": 4,
     "metadata": {},
     "output_type": "execute_result"
    }
   ],
   "source": [
    "[len(i) for i in l1]"
   ]
  },
  {
   "cell_type": "markdown",
   "id": "6a2707cb",
   "metadata": {},
   "source": [
    "4.14) Подсчитать количество строк в списке l1, длина которых больше 2х. Использовать генераторы, решить задачу в одну строку."
   ]
  },
  {
   "cell_type": "code",
   "execution_count": 25,
   "id": "8722093d",
   "metadata": {},
   "outputs": [
    {
     "data": {
      "text/plain": [
       "3"
      ]
     },
     "execution_count": 25,
     "metadata": {},
     "output_type": "execute_result"
    }
   ],
   "source": [
    "sum(1 for i in l1 if len(i) > 2)"
   ]
  },
  {
   "cell_type": "markdown",
   "id": "e3a6a5be",
   "metadata": {},
   "source": [
    "4.15) Просуммировать произведение ключей на значения словаря d4."
   ]
  },
  {
   "cell_type": "code",
   "execution_count": 26,
   "id": "b9eca2f0",
   "metadata": {},
   "outputs": [
    {
     "data": {
      "text/plain": [
       "910"
      ]
     },
     "execution_count": 26,
     "metadata": {},
     "output_type": "execute_result"
    }
   ],
   "source": [
    "sum(key*item for key, item in d4.items())"
   ]
  },
  {
   "cell_type": "markdown",
   "id": "2a6fe1e9",
   "metadata": {},
   "source": [
    "4.16) На базе словаря d6 составить словарь d7 в котором нет пар ключ-значение с ключами, встречающимися в словаре d5. Использовать генераторы, решить задачу в одну строку."
   ]
  },
  {
   "cell_type": "code",
   "execution_count": 27,
   "id": "d36ba7f0",
   "metadata": {},
   "outputs": [
    {
     "data": {
      "text/plain": [
       "{'h': 23, 'i': 24, 'j': 25, 'k': 26, 'l': 27}"
      ]
     },
     "execution_count": 27,
     "metadata": {},
     "output_type": "execute_result"
    }
   ],
   "source": [
    "d7 = {key: value for key, value in d6.items() if key not in d5}\n",
    "d7"
   ]
  },
  {
   "cell_type": "markdown",
   "id": "ba266488",
   "metadata": {},
   "source": [
    "4.17) Создать список, в котором все числа списка l2 умножены на их номер в списке, остальные элементы сохранены на своих местах. Использовать генераторы, решить задачу в одну строку."
   ]
  },
  {
   "cell_type": "code",
   "execution_count": 28,
   "id": "4514d627",
   "metadata": {},
   "outputs": [
    {
     "data": {
      "text/plain": [
       "[0, 4, -4, -9, 0, 55, 18, -7]"
      ]
     },
     "execution_count": 28,
     "metadata": {},
     "output_type": "execute_result"
    }
   ],
   "source": [
    "[v * i for i, v in enumerate(l2)]"
   ]
  },
  {
   "cell_type": "markdown",
   "id": "369b9e37",
   "metadata": {},
   "source": [
    "4.18) Создать список, в котором все отрицательные числа списка l2 исключены, остальные элементы сохранены на своих местах. Использовать генераторы, решить задачу в одну строку."
   ]
  },
  {
   "cell_type": "code",
   "execution_count": 29,
   "id": "85017701",
   "metadata": {},
   "outputs": [
    {
     "data": {
      "text/plain": [
       "[2, 4, 0, 11, 3]"
      ]
     },
     "execution_count": 29,
     "metadata": {},
     "output_type": "execute_result"
    }
   ],
   "source": [
    "[i for i in l2 if i >= 0]"
   ]
  },
  {
   "cell_type": "markdown",
   "id": "df4aaeeb",
   "metadata": {},
   "source": [
    "4.19) Создать список, в котором все отрицательные числа списка l2 заменены на их номер в списке, остальные элементы сохранены на своих местах. Использовать генераторы и тернарный оператор, решить задачу в одну строку."
   ]
  },
  {
   "cell_type": "code",
   "execution_count": 30,
   "id": "e48ae240",
   "metadata": {},
   "outputs": [
    {
     "data": {
      "text/plain": [
       "[2, 4, 2, 3, 0, 11, 3, 7]"
      ]
     },
     "execution_count": 30,
     "metadata": {},
     "output_type": "execute_result"
    }
   ],
   "source": [
    "[i if v < 0 else v for i, v in enumerate(l2)]"
   ]
  },
  {
   "cell_type": "markdown",
   "id": "18954a4c",
   "metadata": {},
   "source": [
    "5.1) Написать задокументированную функцию умножения двух чисел. Для каких типов данная функция будет возвращать практически ценный результат? Написать примеры использования этой функции."
   ]
  },
  {
   "cell_type": "code",
   "execution_count": 32,
   "id": "7c86728c",
   "metadata": {},
   "outputs": [
    {
     "data": {
      "text/plain": [
       "15"
      ]
     },
     "execution_count": 32,
     "metadata": {},
     "output_type": "execute_result"
    }
   ],
   "source": [
    "def multiply(x, y):\n",
    "    \"\"\"\n",
    "    Умножает два числа x и y и возвращает результат умножения.\n",
    "\n",
    "    Args:\n",
    "    x (int, float): Первое число для умножения.\n",
    "    y (int, float): Второе число для умножения.\n",
    "\n",
    "    Returns:\n",
    "    int, float: Результат умножения x на y.\n",
    "    \"\"\"\n",
    "    return x * y\n",
    "\n",
    "result1 = multiply(5, 3) # результат: 15\n",
    "result1"
   ]
  },
  {
   "cell_type": "code",
   "execution_count": 33,
   "id": "65259f0f",
   "metadata": {},
   "outputs": [
    {
     "name": "stdout",
     "output_type": "stream",
     "text": [
      "Help on function multiply in module __main__:\n",
      "\n",
      "multiply(x, y)\n",
      "    Умножает два числа x и y и возвращает результат умножения.\n",
      "    \n",
      "    Args:\n",
      "    x (int, float): Первое число для умножения.\n",
      "    y (int, float): Второе число для умножения.\n",
      "    \n",
      "    Returns:\n",
      "    int, float: Результат умножения x на y.\n",
      "\n"
     ]
    }
   ],
   "source": [
    "help(multiply)"
   ]
  },
  {
   "cell_type": "markdown",
   "id": "b63b1b8f",
   "metadata": {},
   "source": [
    "5.2) Написать функцию умножения принимающую от одного до трех параметров. Написать примеры использования этой функции с разным количеством параметров."
   ]
  },
  {
   "cell_type": "code",
   "execution_count": 35,
   "id": "da82420a",
   "metadata": {},
   "outputs": [
    {
     "name": "stdout",
     "output_type": "stream",
     "text": [
      "2\n",
      "12\n",
      "24\n"
     ]
    }
   ],
   "source": [
    "def multiplication(a, b=1, c=1):\n",
    "    return a * b * c\n",
    "\n",
    "# Примеры использования функции с одним, двумя и тремя параметрами\n",
    "print(multiplication(2)) # Вывод: 2\n",
    "print(multiplication(3, 4)) # Вывод: 12\n",
    "print(multiplication(2, 3, 4)) # Вывод: 24\n"
   ]
  },
  {
   "cell_type": "markdown",
   "id": "b1d7d2ea",
   "metadata": {},
   "source": [
    "\n",
    "5.3) Функцию из задания 2 вызвать с приведенными ниже аргументами. Для случая a4 выбрать 3 первых и 3 последних значения.\n"
   ]
  },
  {
   "cell_type": "code",
   "execution_count": 39,
   "id": "3b8aa945",
   "metadata": {},
   "outputs": [
    {
     "name": "stdout",
     "output_type": "stream",
     "text": [
      "750\n",
      "3\n",
      "3850\n",
      "750\n",
      "3000\n"
     ]
    }
   ],
   "source": [
    "a1 = (15, 10 ,5)\n",
    "a2 = (3, 1)\n",
    "a3 = [2, 35, 55]\n",
    "a4 = (5, 10 ,15, 20)\n",
    "print(multiplication(a1[0], a1[1], a1[2]))\n",
    "print(multiplication(a2[0], a2[1]))\n",
    "print(multiplication(a3[0], a3[1], a3[2]))\n",
    "print(multiplication(a4[0], a4[1], a4[2]))\n",
    "print(multiplication(a4[1], a4[2], a4[3]))"
   ]
  },
  {
   "cell_type": "markdown",
   "id": "077325e6",
   "metadata": {},
   "source": [
    "5.4) Реализовать функцию умножения, принимающую неограниченное количество значений. Написать примеры использования этой функции, в том числе с аргументами из задания 3."
   ]
  },
  {
   "cell_type": "code",
   "execution_count": 40,
   "id": "23bad7b5",
   "metadata": {},
   "outputs": [
    {
     "name": "stdout",
     "output_type": "stream",
     "text": [
      "750\n",
      "3\n",
      "3850\n",
      "15000\n"
     ]
    }
   ],
   "source": [
    "def multiply(*args):\n",
    "    result = 1\n",
    "    for num in args:\n",
    "        result *= num\n",
    "    return result\n",
    "\n",
    "# Примеры использования функции с аргументами из задания:\n",
    "result1 = multiply(*a1)\n",
    "print(result1)  # Вывод результата для a1\n",
    "\n",
    "result2 = multiply(*a2)\n",
    "print(result2)  # Вывод результата для a2\n",
    "\n",
    "result3 = multiply(*a3)\n",
    "print(result3)  # Вывод результата для a3\n",
    "\n",
    "result4 = multiply(*a4)\n",
    "print(result4)  # Вывод результата для a4"
   ]
  },
  {
   "cell_type": "markdown",
   "id": "f026bf6a",
   "metadata": {},
   "source": [
    "5.5) Реализовать функции для выполнения четырех арифмитических операций преобразующих целые числа в целое число. Для двух заранее заданных целых чисел выполнить выбранную пользователем арифметическую операцию."
   ]
  },
  {
   "cell_type": "code",
   "execution_count": 42,
   "id": "fbd93901",
   "metadata": {},
   "outputs": [
    {
     "name": "stdout",
     "output_type": "stream",
     "text": [
      "Выберите операцию (+, -, *, /): +\n",
      "Введите первое целое число: 2\n",
      "Введите второе целое число: 3\n",
      "Результат: 5\n"
     ]
    }
   ],
   "source": [
    "def addition(a, b):\n",
    "    return a + b\n",
    "\n",
    "def subtraction(a, b):\n",
    "    return a - b\n",
    "\n",
    "def multiplication(a, b):\n",
    "    return a * b\n",
    "\n",
    "def division(a, b):\n",
    "    if b != 0:\n",
    "        return a / b\n",
    "    else:\n",
    "        return \"Ошибка: деление на ноль\"\n",
    "\n",
    "# Выбор пользователем операции\n",
    "operation = input(\"Выберите операцию (+, -, *, /): \")\n",
    "\n",
    "# Ввод двух чисел\n",
    "num1 = int(input(\"Введите первое целое число: \"))\n",
    "num2 = int(input(\"Введите второе целое число: \"))\n",
    "\n",
    "# Выполнение выбранной операции\n",
    "if operation == '+':\n",
    "    result = addition(num1, num2)\n",
    "elif operation == '-':\n",
    "    result = subtraction(num1, num2)\n",
    "elif operation == '*':\n",
    "    result = multiplication(num1, num2)\n",
    "elif operation == '/':\n",
    "    result = division(num1, num2)\n",
    "else:\n",
    "    result = \"Неправильный ввод операции\"\n",
    "\n",
    "print(\"Результат:\", result)"
   ]
  },
  {
   "cell_type": "markdown",
   "id": "a0d6120a",
   "metadata": {},
   "source": [
    "5.6) Написать калькулятор для строковых выражений вида '<число> <операция> <число>', где <число> - целое число, например 113, <арифмитическая операция> - одна из операций +,-,*,/(деление нацело),%(остаток от деления),^(возведение в степень). Пример calc('13 - 5') -> 8"
   ]
  },
  {
   "cell_type": "code",
   "execution_count": 44,
   "id": "37e17a09",
   "metadata": {},
   "outputs": [
    {
     "name": "stdout",
     "output_type": "stream",
     "text": [
      "3+5\n"
     ]
    },
    {
     "data": {
      "text/plain": [
       "8"
      ]
     },
     "execution_count": 44,
     "metadata": {},
     "output_type": "execute_result"
    }
   ],
   "source": [
    "eval(input())"
   ]
  },
  {
   "cell_type": "code",
   "execution_count": 49,
   "id": "c1a67f91",
   "metadata": {},
   "outputs": [
    {
     "name": "stdout",
     "output_type": "stream",
     "text": [
      "13 - 5\n",
      "8\n"
     ]
    }
   ],
   "source": [
    "def calc(expression):\n",
    "    parts = expression.split()  # Разбиваем строку на части\n",
    "    num1 = int(parts[0])  # Получаем первое число\n",
    "    operator = parts[1]    # Получаем оператор\n",
    "    num2 = int(parts[2])    # Получаем второе число\n",
    "\n",
    "    # Выполняем соответствующую операцию\n",
    "    if operator == '+':\n",
    "        return num1 + num2\n",
    "    elif operator == '-':\n",
    "        return num1 - num2\n",
    "    elif operator == '*':\n",
    "        return num1 * num2\n",
    "    elif operator == '/':\n",
    "        return num1 / num2\n",
    "    elif operator == '%':\n",
    "        return num1 % num2\n",
    "    elif operator == '^':\n",
    "        return num1 ** num2\n",
    "    else:\n",
    "        return \"Ошибка: Неправильный оператор\"\n",
    "\n",
    "# Пример использования\n",
    "result = calc(input())\n",
    "print(result)  # Вывод результата\n"
   ]
  },
  {
   "cell_type": "markdown",
   "id": "6f1d5902",
   "metadata": {},
   "source": [
    "5.7) Реализовать функцию которая выводит на экран сообщение вида:\n",
    "'Автомобиль марки: BMW, модели: X5, цвета: белый, 2006 года выпуска, с пробегом: 215 000 км, c номерным знаком: X012АМ77, цена: 1 115 000 руб.'\n",
    "В функцию передаются именованные параметры изменяемой части сообщения, лубой из параметров может быть не задан пользователем функции и автоматически заменен на разумное сообщение в соответствующей части строки. Получить вывод текстового сообщения для словарей c1, c2.\n"
   ]
  },
  {
   "cell_type": "code",
   "execution_count": 50,
   "id": "a0172ef5",
   "metadata": {},
   "outputs": [
    {
     "name": "stdout",
     "output_type": "stream",
     "text": [
      "Автомобиль марки: BMW, модели: X5, цвета: белый, 2006 года выпуска, с пробегом: 215 000 км, c номерным знаком: X012AM77, цена: 1 115 000 руб.\n",
      "Автомобиль марки: Audi, модели: A4, цвета: неизвестный цвет, 2010 года выпуска, с пробегом: 150 000 км, c номерным знаком: неизвестный номер, цена: 700 000 руб.\n"
     ]
    }
   ],
   "source": [
    "def print_car_info(**kwargs):\n",
    "    brand = kwargs.get('марка', 'неизвестная марка')\n",
    "    model = kwargs.get('модель', 'неизвестная модель')\n",
    "    color = kwargs.get('цвет', 'неизвестный цвет')\n",
    "    year = kwargs.get('год', 'неизвестный год')\n",
    "    mileage = kwargs.get('пробег', 'неизвестный пробег')\n",
    "    license_plate = kwargs.get('номер', 'неизвестный номер')\n",
    "    price = kwargs.get('цена', 'неизвестная цена')\n",
    "\n",
    "    message = f\"Автомобиль марки: {brand}, модели: {model}, цвета: {color}, {year} года выпуска, с пробегом: {mileage} км, c номерным знаком: {license_plate}, цена: {price} руб.\"\n",
    "    print(message)\n",
    "\n",
    "c1 = {'марка': 'BMW', 'модель': 'X5', 'цвет': 'белый', 'год': 2006, 'пробег': '215 000', 'номер': 'X012AM77', 'цена': '1 115 000'}\n",
    "c2 = {'марка': 'Audi', 'модель': 'A4', 'год': 2010, 'пробег': '150 000', 'цена': '700 000'}\n",
    "print_car_info(**c1)\n",
    "print_car_info(**c2)\n"
   ]
  },
  {
   "cell_type": "markdown",
   "id": "0a98bc08",
   "metadata": {},
   "source": [
    "\n",
    "5.8) Написать функцию, которая преобразует целое число (от 0 до 99) в текстовое написание числа на русском языке. Пример: to_text(15) -> 'Пятнадцать'\n"
   ]
  },
  {
   "cell_type": "code",
   "execution_count": 51,
   "id": "a1b98a8a",
   "metadata": {},
   "outputs": [
    {
     "name": "stdout",
     "output_type": "stream",
     "text": [
      "Пятнадцать\n",
      "Сорок Семь\n",
      "Восемьдесят Один\n"
     ]
    }
   ],
   "source": [
    "def to_text(number):\n",
    "    numbers_dict = {\n",
    "        0: 'Ноль', 1: 'Один', 2: 'Два', 3: 'Три', 4: 'Четыре', 5: 'Пять', 6: 'Шесть', 7: 'Семь', 8: 'Восемь', 9: 'Девять',\n",
    "        10: 'Десять', 11: 'Одиннадцать', 12: 'Двенадцать', 13: 'Тринадцать', 14: 'Четырнадцать', 15: 'Пятнадцать',\n",
    "        16: 'Шестнадцать', 17: 'Семнадцать', 18: 'Восемнадцать', 19: 'Девятнадцать'\n",
    "    }\n",
    "\n",
    "    tens_dict = {\n",
    "        2: 'Двадцать', 3: 'Тридцать', 4: 'Сорок', 5: 'Пятьдесят', 6: 'Шестьдесят', 7: 'Семьдесят', 8: 'Восемьдесят', 9: 'Девяносто'\n",
    "    }\n",
    "\n",
    "    if number < 20:  # Числа от 0 до 19\n",
    "        return numbers_dict[number]\n",
    "    else:  # Числа от 20 до 99\n",
    "        tens = number // 10\n",
    "        ones = number % 10\n",
    "        if ones == 0:\n",
    "            return tens_dict[tens]\n",
    "        else:\n",
    "            return tens_dict[tens] + ' ' + numbers_dict[ones]\n",
    "\n",
    "# Пример использования\n",
    "result1 = to_text(15)\n",
    "result2 = to_text(47)\n",
    "result3 = to_text(81)\n",
    "print(result1)  # Печать результата для числа 15\n",
    "print(result2)  # Печать результата для числа 47\n",
    "print(result3)  # Печать результата для числа 81"
   ]
  },
  {
   "cell_type": "markdown",
   "id": "113afdb6",
   "metadata": {},
   "source": [
    "5.9) Написать функцию, которая преобразует целое число (от 0 до 999) из текстового представления на руссокм языке в число типа int. Пример: to_int('тридцать три') -> 33"
   ]
  },
  {
   "cell_type": "code",
   "execution_count": 52,
   "id": "82ed16fe",
   "metadata": {},
   "outputs": [
    {
     "name": "stdout",
     "output_type": "stream",
     "text": [
      "33\n",
      "103\n",
      "250\n"
     ]
    }
   ],
   "source": [
    "def to_int(russian_number):\n",
    "    numbers_dict = {\n",
    "        'ноль': 0, 'один': 1, 'два': 2, 'три': 3, 'четыре': 4, 'пять': 5, 'шесть': 6, 'семь': 7, 'восемь': 8, 'девять': 9,\n",
    "        'десять': 10, 'одиннадцать': 11, 'двенадцать': 12, 'тринадцать': 13, 'четырнадцать': 14, 'пятнадцать': 15,\n",
    "        'шестнадцать': 16, 'семнадцать': 17, 'восемнадцать': 18, 'девятнадцать': 19, 'двадцать': 20, 'тридцать': 30,\n",
    "        'сорок': 40, 'пятьдесят': 50, 'шестьдесят': 60, 'семьдесят': 70, 'восемьдесят': 80, 'девяносто': 90,\n",
    "        'сто': 100, 'двести': 200, 'триста': 300, 'четыреста': 400, 'пятьсот': 500, 'шестьсот': 600, 'семьсот': 700,\n",
    "        'восемьсот': 800, 'девятьсот': 900,\n",
    "    }\n",
    "    words = russian_number.split()\n",
    "    number = 0\n",
    "    n = 0\n",
    "    while n < len(words):\n",
    "        if words[n] in numbers_dict:\n",
    "            if words[n] == 'сто' and (n + 1) < len(words):\n",
    "                if words[n + 1] in numbers_dict:\n",
    "                    number += numbers_dict[words[n]]\n",
    "                    n += 1\n",
    "                else:\n",
    "                    number += numbers_dict[words[n]]\n",
    "            elif words[n] in ['двести', 'триста', 'четыреста', 'пятьсот', 'шестьсот', 'семьсот', 'восемьсот', 'девятьсот']:\n",
    "                number += numbers_dict[words[n]]\n",
    "            else:\n",
    "                number += numbers_dict[words[n]]\n",
    "\n",
    "        elif words[n] == 'и':\n",
    "                pass\n",
    "        else:\n",
    "            return 'Ошибка: неподдерживаемое слово'\n",
    "\n",
    "        n += 1\n",
    "    return number\n",
    "\n",
    "# Пример использования\n",
    "result1 = to_int('тридцать три')\n",
    "result2 = to_int('сто двадцать три')\n",
    "result3 = to_int('двести пятьдесят')\n",
    "print(result1)  # Печать результата для 'тридцать три'\n",
    "print(result2)  # Печать результата для 'сто двадцать три'\n",
    "print(result3)  # Печать результата для 'двести пятьдесят'\n"
   ]
  },
  {
   "cell_type": "markdown",
   "id": "9cd2e318",
   "metadata": {},
   "source": [
    "\n",
    "6.1) Написать калькулятор для строковых выражений вида '<число> <операция> <число>', где <число> - не отрицательное целое число меньшее 100, записанное словами, например \"тридцать четыре\", <арифмитическая операция> - одна из операций \"плюс\",\"минус\",\"умножить\". Результат выполнения операции вернуть в виде текстового представления числа. Пример calc('двадцать пять плюс тринадцать') -> \"тридцать восемь\n"
   ]
  },
  {
   "cell_type": "code",
   "execution_count": 53,
   "id": "999255ff",
   "metadata": {},
   "outputs": [
    {
     "name": "stdout",
     "output_type": "stream",
     "text": [
      "тридцать три\n"
     ]
    }
   ],
   "source": [
    "def calc(text):\n",
    "    numbers = {\n",
    "        \"ноль\": 0, \"один\": 1, \"два\": 2, \"три\": 3, \"четыре\": 4, \"пять\": 5,\n",
    "        \"шесть\": 6, \"семь\": 7, \"восемь\": 8, \"девять\": 9, \"десять\": 10,\n",
    "        \"одиннадцать\": 11, \"двенадцать\": 12, \"тринадцать\": 13, \"четырнадцать\": 14, \"пятнадцать\": 15,\n",
    "        \"шестнадцать\": 16, \"семнадцать\": 17, \"восемнадцать\": 18, \"девятнадцать\": 19, \"двадцать\": 20,\n",
    "        \"тридцать\": 30, \"сорок\": 40, \"пятьдесят\": 50, \"шестьдесят\": 60, \"семьдесят\": 70, \"восемьдесят\": 80, \"девяносто\": 90\n",
    "    }\n",
    "\n",
    "    reverse_numbers = {v: k for k, v in numbers.items()}\n",
    "\n",
    "    parts = text.split()\n",
    "    num1 = numbers[parts[0]] if parts[0] in numbers else numbers[parts[0]] + numbers[parts[1]]\n",
    "    operation = parts[-2]\n",
    "    num2 = numbers[parts[-1]]\n",
    "\n",
    "    if operation == \"плюс\":\n",
    "        result = num1 + num2\n",
    "    elif operation == \"минус\":\n",
    "        result = num1 - num2\n",
    "    elif operation == \"умножить\":\n",
    "        result = num1 * num2\n",
    "    else:\n",
    "        return \"Неподдерживаемая операция\"\n",
    "\n",
    "    if result in reverse_numbers:\n",
    "        return reverse_numbers[result]\n",
    "    elif result < 100:\n",
    "        tens = result // 10 * 10\n",
    "        ones = result % 10\n",
    "        if ones == 0:\n",
    "            return reverse_numbers[tens]\n",
    "        else:\n",
    "            return f\"{reverse_numbers[tens]} {reverse_numbers[ones]}\"\n",
    "    else:\n",
    "        return result\n",
    "\n",
    "# Пример использования\n",
    "result1 = calc('двадцать пять плюс тринадцать')\n",
    "print(result1)  # Печать результата"
   ]
  },
  {
   "cell_type": "code",
   "execution_count": null,
   "id": "40efb03c",
   "metadata": {},
   "outputs": [],
   "source": []
  }
 ],
 "metadata": {
  "kernelspec": {
   "display_name": "Python 3 (ipykernel)",
   "language": "python",
   "name": "python3"
  },
  "language_info": {
   "codemirror_mode": {
    "name": "ipython",
    "version": 3
   },
   "file_extension": ".py",
   "mimetype": "text/x-python",
   "name": "python",
   "nbconvert_exporter": "python",
   "pygments_lexer": "ipython3",
   "version": "3.11.5"
  }
 },
 "nbformat": 4,
 "nbformat_minor": 5
}
