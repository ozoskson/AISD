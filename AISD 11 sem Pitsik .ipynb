{
 "cells": [
  {
   "cell_type": "markdown",
   "id": "a8c3ec90-9a6b-4689-8b1b-ea5a78a5b63c",
   "metadata": {},
   "source": [
    "1) Создать скрипт для анализа тестовых файлов - сбора статистики упоминания слов. Аргументом командной строки является имя файла, который нужно проанализировать. Второй аргумент - количество слов, которые нужно выводить на экран (если аргумент не указан, то выводим статистику по 100 словам, статистика выводится в порядке убывания частоты слов, по каждому слову на экран выводится строка в формате \"<слово> <частота>\"). Если второй аргумент не целое число, то его рассматриваем как имя файла, в который в формате CSV с заголовком сохраняем статистику слов (Первый столбец - слово, второй столбце - частота)."
   ]
  },
  {
   "cell_type": "code",
   "execution_count": 9,
   "id": "ffdfa3cd-ff1a-48cb-9dd0-043e354d9b84",
   "metadata": {},
   "outputs": [
    {
     "name": "stdout",
     "output_type": "stream",
     "text": [
      "Статистика сохранена в файл new.csv\n"
     ]
    }
   ],
   "source": [
    "import csv\n",
    "\n",
    "def analiz_number(file_name, n=100): \n",
    "    word_number = {}   #создаем словарь для записи данных\n",
    "    with open(file_name, 'r', encoding='utf-8') as file:    #открываем файл на чтание\n",
    "        for row in file:\n",
    "            words = row.lower().split()    #в отдельный список сохраняем все слова\n",
    "            for word in words:\n",
    "                if word in '.,!?;:/-\"':\n",
    "                    continue\n",
    "                if word in word_number:    #работаем с счетчиком, либо просто создаем новый ключ\n",
    "                    word_number[word] += 1\n",
    "                else:\n",
    "                    word_number[word] = 1\n",
    "    sorted_word_number = sorted(word_number.items(), key=lambda item: item[1], reverse=True)    #делаем сортировку по убыванию\n",
    "    if isinstance(n, int):    #проверяем n является числом или строкой\n",
    "        for key, value in sorted_word_number[:n]:\n",
    "            print(key, ':', value)    #вывод при условии что было введено число\n",
    "    elif isinstance(n, str):\n",
    "        with open(n, 'w', encoding='utf-8') as csv_file:    #если же n является строкой, тооткрываем файл назапись и добавляем туда всю информацию\n",
    "            csv_file.write(\"Слово,Частота\\n\")\n",
    "            for key, value in sorted_word_number:\n",
    "                csv_file.write(f\"{key},{value}\\n\")\n",
    "        print(f\"Статистика сохранена в файл {n}\")\n",
    "\n",
    "\n",
    "analiz_number(\"agata cards.txt\", 'new.csv')    #проверка"
   ]
  },
  {
   "cell_type": "markdown",
   "id": "b9c2a72d-0d0a-4961-9e4d-0937e8c4bca2",
   "metadata": {},
   "source": [
    "2) Создать скрипт, которому в командной строке передаются имена файлов. В файлах в формате CSV с заголовком содержится информация о частоте слов: первый столбец - слово, второй столбце - частота. Выполнить агрегацию информации о частоте слов из всех переданных файлов (т.е. рассчитать суммарную частоту для всех упомянутых слов). Результат сохранить в файл с именем, которое введет пользователь в ответ на соответствующий запрос.\n",
    "2.1) Скрипт должен адекватно реагировать на ситуацию отсутствия файлов и другие проблемы с вводом/выводом.\n",
    "2.2) Оформить модуль с функциями, которые используются в задании 1 и 2.\n"
   ]
  },
  {
   "cell_type": "code",
   "execution_count": null,
   "id": "990a0b58-faf1-42a9-ac99-43661ade7f36",
   "metadata": {},
   "outputs": [],
   "source": [
    "import sys\n",
    "import csv\n",
    "from google.colab import files\n",
    "uploaded = files.upload()\n",
    "\n",
    "# Считываем имена файлов из аргументов командной строки\n",
    "files = sys.argv[1:]\n",
    "\n",
    "# Создаем словарь для хранения частот слов\n",
    "word_freq = {}\n",
    "\n",
    "# Обходим все переданные файлы\n",
    "for file_name in files:\n",
    "    with open(file_name, 'r') as file:\n",
    "        reader = csv.reader(file)\n",
    "        next(reader)  # Пропускаем заголовок\n",
    "        for row in reader:\n",
    "            word = row[0]\n",
    "            freq = int(row[1])\n",
    "            if word in word_freq:\n",
    "                word_freq[word] += freq\n",
    "            else:\n",
    "                word_freq[word] = freq\n",
    "\n",
    "# Запрашиваем у пользователя имя файла для сохранения результата\n",
    "output_file = input(\"Введите имя файла для сохранения результата: \")\n",
    "\n",
    "# Записываем результаты в файл\n",
    "with open(output_file, 'w') as result_file:\n",
    "    writer = csv.writer(result_file)\n",
    "    writer.writerow(['Слово', 'Суммарная частота'])\n",
    "    for word, freq in word_freq.items():\n",
    "        writer.writerow([word, freq])\n",
    "\n",
    "print(\"Результат успешно сохранен в файл\", output_file)"
   ]
  },
  {
   "cell_type": "code",
   "execution_count": null,
   "id": "a7eda6cc-a80e-44aa-a088-90e6ee7dcf6d",
   "metadata": {},
   "outputs": [],
   "source": [
    "from google.colab import files\n",
    "uploaded = files.upload()\n",
    "try:\n",
    "    with open('file.txt', 'r') as file:\n",
    "        data = file.read()\n",
    "        print(data)\n",
    "except FileNotFoundError:\n",
    "    print(\"Файл не найден\")\n",
    "except IOError:\n",
    "    print(\"Ошибка ввода/вывода\")"
   ]
  },
  {
   "cell_type": "code",
   "execution_count": null,
   "id": "b71ad525-5814-42e6-beb1-2198552b4199",
   "metadata": {},
   "outputs": [],
   "source": [
    "\n",
    "import sys\n",
    "import csv\n",
    "from collections import Counter\n",
    "from google.colab import files\n",
    "uploaded = files.upload()\n",
    "\n",
    "def count_word_frequency(file_name):\n",
    "    words = []\n",
    "\n",
    "    with open(file_name, 'r') as file:\n",
    "        for line in file:\n",
    "            words.extend(line.strip().split())\n",
    "\n",
    "    word_freq = Counter(words)\n",
    "    return word_freq\n",
    "\n",
    "def display_word_stats(word_freq, num_words=100):\n",
    "    sorted_word_freq = sorted(word_freq.items(), key=lambda x: x[1], reverse=True)\n",
    "\n",
    "    if isinstance(num_words, int):\n",
    "        num_words = min(num_words, len(sorted_word_freq))\n",
    "        for i in range(num_words):\n",
    "            print(f\"{sorted_word_freq[i][0]} {sorted_word_freq[i][1]}\")\n",
    "    else:\n",
    "        with open(num_words, 'w', newline='') as file:\n",
    "            writer = csv.writer(file)\n",
    "            writer.writerow(['Word', 'Frequency'])\n",
    "            for key, value in sorted_word_freq:\n",
    "                writer.writerow([key, value])\n",
    "\n",
    "if __name__ == \"__main__\":\n",
    "    if len(sys.argv) < 2:\n",
    "        print(\"Usage: python script_name.py  [num_words]\")\n",
    "    else:\n",
    "        file_name = sys.argv[1]\n",
    "        if len(sys.argv) == 3:\n",
    "            num_words = sys.argv[2] if sys.argv[2].isdigit() else int(sys.argv[2])\n",
    "        else:\n",
    "            num_words = 100\n",
    "\n",
    "        word_freq = count_word_frequency(file_name)\n",
    "        display_word_stats(word_freq, num_words)"
   ]
  },
  {
   "cell_type": "markdown",
   "id": "fc3d4827-34dc-4ca9-87a9-42bf974d79dd",
   "metadata": {},
   "source": [
    "3.1) Написать программу, которая запускается из консоли и считает сумму переданных в неё чисел"
   ]
  },
  {
   "cell_type": "code",
   "execution_count": null,
   "id": "a6f5e738-dd03-4dc3-9e1d-b7fa8b985e73",
   "metadata": {},
   "outputs": [],
   "source": [
    "import sys\n",
    "\n",
    "def calculate_sum(numbers):\n",
    "    return sum(numbers)\n",
    "\n",
    "if __name__ == \"__main__\":\n",
    "    numbers = [int(num) for num in sys.argv[1:]]  # Преобразуем аргументы в целые числа\n",
    "    result = calculate_sum(numbers)\n",
    "    print(f\"Сумма чисел: {result}\")"
   ]
  },
  {
   "cell_type": "markdown",
   "id": "9d3522ce-4992-4df5-9150-c020c59cf259",
   "metadata": {},
   "source": [
    "3.2) Добавить в эту программу произведение"
   ]
  },
  {
   "cell_type": "code",
   "execution_count": null,
   "id": "cb9ec6c8-78b7-4ce1-9d4a-f71261ee5d09",
   "metadata": {},
   "outputs": [],
   "source": [
    "import sys\n",
    "\n",
    "def calculate_sum(numbers):\n",
    "    return sum(numbers)\n",
    "\n",
    "def calculate_product(numbers):\n",
    "    result = 1\n",
    "    for num in numbers:\n",
    "        result *= num\n",
    "    return result\n",
    "\n",
    "if __name__ == \"__main__\":\n",
    "    numbers = [int(num) for num in sys.argv[1:]]  # Преобразуем аргументы в целые числа\n",
    "    sum_result = calculate_sum(numbers)\n",
    "    product_result = calculate_product(numbers)\n",
    "    print(f\"Сумма чисел: {sum_result}\")\n",
    "    print(f\"Произведение чисел: {product_result}\")"
   ]
  },
  {
   "cell_type": "markdown",
   "id": "0c9e8a2b-444d-4377-b45d-b7936c2d9d31",
   "metadata": {},
   "source": [
    "3.3) По переданному параметру считать либо сумму, либо произведение"
   ]
  },
  {
   "cell_type": "code",
   "execution_count": null,
   "id": "b906d317-eea1-4939-955e-dca21d3df7a9",
   "metadata": {},
   "outputs": [],
   "source": [
    "import sys\n",
    "\n",
    "def calculate_sum(numbers):\n",
    "    return sum(numbers)\n",
    "\n",
    "def calculate_product(numbers):\n",
    "    result = 1\n",
    "    for num in numbers:\n",
    "        result *= num\n",
    "    return result\n",
    "\n",
    "if __name__ == \"__main__\":\n",
    "    args = sys.argv[1:]\n",
    "\n",
    "    if len(args) < 3:\n",
    "        print(\"Пожалуйста, укажите числа для вычисления и режим работы (сумма или произведение).\")\n",
    "    else:\n",
    "        numbers = [int(num) for num in args[:-1]]  # Преобразуем числа в целые числа\n",
    "        mode = args[-1].lower()  # Режим работы (сумма или произведение)\n",
    "\n",
    "        if mode == \"сумма\":\n",
    "            result = calculate_sum(numbers)\n",
    "            print(f\"Сумма чисел: {result}\")\n",
    "        elif mode == \"произведение\":\n",
    "            result = calculate_product(numbers)\n",
    "            print(f\"Произведение чисел: {result}\")\n",
    "        else:\n",
    "            print(\"Неверно указан режим работы. Укажите 'сумма' или 'произведение'.\")"
   ]
  },
  {
   "cell_type": "markdown",
   "id": "7bf3a622-34f8-45b2-ac9d-a1e718838f23",
   "metadata": {},
   "source": [
    "3.4) Оформить дополнительный модуль."
   ]
  },
  {
   "cell_type": "code",
   "execution_count": null,
   "id": "ceb71511-4482-43da-a739-d3f52726e4b3",
   "metadata": {},
   "outputs": [],
   "source": [
    "import sys\n",
    "\n",
    "def calculate_sum(numbers):\n",
    "    return sum(numbers)\n",
    "\n",
    "def calculate_product(numbers):\n",
    "    result = 1\n",
    "    for num in numbers:\n",
    "        result *= num\n",
    "    return result\n",
    "\n",
    "if __name__ == \"__main__\":\n",
    "    args = sys.argv[1:]\n",
    "\n",
    "    if len(args) < 1:\n",
    "        print(\"Пожалуйста, укажите числа для вычисления.\")\n",
    "    else:\n",
    "        numbers = [int(num) for num in args]  # Преобразуем числа в целые числа\n",
    "\n",
    "        sum_result = calculate_sum(numbers)\n",
    "        print(f\"Сумма чисел: {sum_result}\")\n",
    "\n",
    "        product_result = calculate_product(numbers)\n",
    "        print(f\"Произведение чисел: {product_result}\")"
   ]
  }
 ],
 "metadata": {
  "kernelspec": {
   "display_name": "Python 3 (ipykernel)",
   "language": "python",
   "name": "python3"
  },
  "language_info": {
   "codemirror_mode": {
    "name": "ipython",
    "version": 3
   },
   "file_extension": ".py",
   "mimetype": "text/x-python",
   "name": "python",
   "nbconvert_exporter": "python",
   "pygments_lexer": "ipython3",
   "version": "3.12.2"
  }
 },
 "nbformat": 4,
 "nbformat_minor": 5
}
