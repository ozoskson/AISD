{
 "cells": [
  {
   "cell_type": "markdown",
   "metadata": {},
   "source": [
    "### Контрольная работа № 1.\n",
    "### Вариант 1.\n",
    "#### Студент __________________________ группа ______________________"
   ]
  },
  {
   "cell_type": "markdown",
   "metadata": {},
   "source": [
    "1. Создайте класс Length (Длина), имеющий свойства\n",
    "\n",
    "• value (значение),\n",
    "\n",
    "• unit (единица измерения).\n",
    "\n",
    "При изменении единицы измерения значение должно соответственно меняться. Например, при переходе от сантиметров к метрам значение должно уменьшаться в 100 раз. Допустимые значения свойства unit: ‘см’, ‘м’, ‘км’. Организуйте эту проверку. Продемонстрируйте работу с классом."
   ]
  },
  {
   "cell_type": "code",
   "execution_count": 1,
   "metadata": {},
   "outputs": [
    {
     "name": "stdout",
     "output_type": "stream",
     "text": [
      "Длина: 100 см\n",
      "Длина: 1.0 м\n",
      "Длина: 0.001 км\n"
     ]
    }
   ],
   "source": [
    "# Решение 1.\n",
    "# Класс \"Length\" используется для конвертации длины из различных единиц измерения (см, м, км) в метры. \n",
    "class Length:\n",
    "    #В методе \"init\" объявляются атрибуты \"value\" (значение) и \"unit\" (единица измерения). \n",
    "    def __init__(self, value, unit):\n",
    "        self.value = value\n",
    "        self.unit = unit\n",
    "        \n",
    "    #Метод \"convert_to_meters\" используется для конвертации в метры.\n",
    "    def convert_to_meters(self):\n",
    "        if self.unit == 'см':\n",
    "            self.value /= 100\n",
    "            self.unit = 'м'\n",
    "        elif self.unit == 'км':\n",
    "            self.value *= 1000\n",
    "            self.unit = 'м'\n",
    "            \n",
    "    # Методы \"convert_to_centimeters\" нужен для конвертации в сантиметры\n",
    "    def convert_to_centimeters(self):\n",
    "        if self.unit == 'м':\n",
    "            self.value *= 100\n",
    "            self.unit = 'см'\n",
    "        elif self.unit == 'км':\n",
    "            self.value *= 100000\n",
    "            self.unit = 'см'\n",
    "            \n",
    "    # Метод \"convert_to_kilometers\" используются для конвертации в километры \n",
    "    def convert_to_kilometers(self):\n",
    "        if self.unit == 'м':\n",
    "            self.value /= 1000\n",
    "            self.unit = 'км'\n",
    "        elif self.unit == 'см':\n",
    "            self.value /= 100000\n",
    "            self.unit = 'км'\n",
    "\n",
    "# Пример использования\n",
    "length = Length(100, 'см')\n",
    "print(f'Длина: {length.value} {length.unit}')\n",
    "\n",
    "length.convert_to_meters()\n",
    "print(f'Длина: {length.value} {length.unit}')\n",
    "\n",
    "length.convert_to_kilometers()\n",
    "print(f'Длина: {length.value} {length.unit}')\n"
   ]
  },
  {
   "cell_type": "markdown",
   "metadata": {},
   "source": [
    "2. Создайте класс Ведомость, имеющий\n",
    "атрибут класса:\n",
    "\n",
    "• список_дисциплин (значением является список с названиями дисциплин);\n",
    "\n",
    "свойства:\n",
    "\n",
    "• дисциплина (при задании значения проверять наличие дисциплины в атрибуте список_дисциплин),\n",
    "\n",
    "• группа;\n",
    "\n",
    "методы:\n",
    "\n",
    "• put – добавляет в ведомость информацию об оценке студента (фамилия, оценка – параметры метода). Для хранения данных внутри класса используйте словарь, в котором ключом является фамилия студента. Возможные оценки – «отлично», «хорошо», «удовл.», «неудовл.», «н/я»;\n",
    "\n",
    "• get – возвращает оценку, полученную студентом (фамилия студента – параметр метода);\n",
    "\n",
    "• change – изменяет оценку, полученную студентом (фамилия студента и новая оценка – параметры метода);\n",
    "\n",
    "• del – удаляет информацию о студенте из ведомости (фамилия студента – параметр метода);\n",
    "\n",
    "• result – возвращает кортеж из 5 чисел (количество каждого вида оценок в ведомости);\n",
    "\n",
    "• __init__ – конструктор;\n",
    "\n",
    "• __str__ – возвращает строку, содержащую заголовки (название экзамена, группа) и результаты экзамена в виде таблицы;\n",
    "\n",
    "• count – возвращает количество студентов в ведомости;\n",
    "\n",
    "• names – возвращает список фамилий, имеющихся в ведомости.\n",
    "\n",
    "Продемонстрируйте работу с классом. \n"
   ]
  },
  {
   "cell_type": "code",
   "execution_count": 19,
   "metadata": {},
   "outputs": [
    {
     "name": "stdout",
     "output_type": "stream",
     "text": [
      "Экзамен: АИСД\n",
      "Группа: Ид23-3\n",
      "\n",
      "Фамилия         Оценка    \n",
      "Хазанова        отлично   \n",
      "Пицик           хорошо    \n",
      "Сидоров         удовл.    \n",
      "\n",
      "Количество студентов в ведомости: 3\n",
      "Список фамилий: ['Хазанова', 'Пицик', 'Сидоров']\n",
      "Результаты экзамена: (1, 1, 1, 0, 0)\n",
      "Экзамен: АИСД\n",
      "Группа: Ид23-3\n",
      "\n",
      "Фамилия         Оценка    \n",
      "Хазанова        отлично   \n",
      "Пицик           отлично   \n",
      "Сидоров         удовл.    \n",
      "\n",
      "Экзамен: АИСД\n",
      "Группа: Ид23-3\n",
      "\n",
      "Фамилия         Оценка    \n",
      "Хазанова        отлично   \n",
      "Пицик           отлично   \n",
      "\n"
     ]
    }
   ],
   "source": [
    "# Решение 2.\n",
    "class Journal:\n",
    "    def __init__(self, disc_list, group):\n",
    "        #Первым аргументом мы передаем список дисциплин, по которым будут ставиться оценки\n",
    "        self.disc_list = disc_list\n",
    "        # A вторым - номер группы студентов.\n",
    "        self.group = group\n",
    "        self.journal = dict() #Для хранения оценок используется словарь, где ключом является фамилия студента, а значением - оценка\n",
    "        \n",
    "    # Метод \"put\" принимает фамилию и оценку и добавляет их в словарь\n",
    "    def put(self, surname, grade):\n",
    "        if grade not in [\"отлично\", \"хорошо\", \"удовл.\", \"неудовл.\", \"н/я\"]:\n",
    "            print(\"Ошибка. Такой оценки нет\")\n",
    "            return\n",
    "        self.journal[surname] = grade\n",
    "        \n",
    "    # Метод \"get\" возвращает оценку по фамилии студента, переданной в качестве аргумента\n",
    "    def get(self, surname):\n",
    "        if surname not in self.journal:\n",
    "            print(\"Ошибка. Такого студента нет в ведомости\")\n",
    "            return\n",
    "        return self.journal[surname]\n",
    "\n",
    "    def change(self, surname, new_grade):\n",
    "        if new_grade not in [\"отлично\", \"хорошо\", \"удовл.\", \"неудовл.\", \"н/я\"]:\n",
    "            print(\"Ошибка. Такой оценки нет\")\n",
    "            return\n",
    "        if surname not in self.journal:\n",
    "            print(\"Ошибка. Такого студента нет в ведомости\")\n",
    "            return\n",
    "        self.journal[surname] = new_grade\n",
    "\n",
    "    def del_student(self, surname):\n",
    "        if surname not in self.journal:\n",
    "            print(\"Ошибка. Такого студента нет в ведомости\")\n",
    "            return\n",
    "        del self.journal[surname]\n",
    "\n",
    "    def result(self):\n",
    "        count = {\"отлично\": 0, \"хорошо\": 0, \"удовл.\": 0, \"неудовл.\": 0, \"н/я\": 0}\n",
    "        for grade in self.journal.values():\n",
    "            count[grade] += 1\n",
    "        return count[\"отлично\"], count[\"хорошо\"], count[\"удовл.\"], count[\"неудовл.\"], count[\"н/я\"]\n",
    "\n",
    "    def __str__(self):\n",
    "        result = \"Экзамен: \" + self.disc_list[0] + \"\\nГруппа: \" + self.group + \"\\n\\n\"\n",
    "        result += \"{:<15} {:<10}\".format(\"Фамилия\", \"Оценка\") + \"\\n\"\n",
    "        for surname, grade in self.journal.items():\n",
    "            result += \"{:<15} {:<10}\".format(surname, grade) + \"\\n\"\n",
    "        return result\n",
    "\n",
    "    def count(self):\n",
    "        return len(self.journal)\n",
    "\n",
    "    def names(self):\n",
    "        return list(self.journal.keys())\n",
    "\n",
    "\n",
    "disc_list = [\"АИСД\", \"ТОД\", \"Алгебра и анализ\"]\n",
    "group = \"Ид23-3\"\n",
    "journal = Journal(disc_list, group)\n",
    "journal.put(\"Хазанова\", \"отлично\")\n",
    "journal.put(\"Пицик\", \"хорошо\")\n",
    "journal.put(\"Сидоров\", \"удовл.\")\n",
    "print(journal)\n",
    "print(\"Количество студентов в ведомости:\", journal.count())\n",
    "print(\"Список фамилий:\", journal.names())\n",
    "print(\"Результаты экзамена:\", journal.result())\n",
    "journal.change(\"Пицик\", \"отлично\")\n",
    "print(journal)\n",
    "journal.del_student(\"Сидоров\")\n",
    "print(journal)\n"
   ]
  },
  {
   "cell_type": "markdown",
   "metadata": {},
   "source": [
    "3. Создайте класс Заказ(Order), у которого есть свойства код_товара(code), цена(price), количество(count) и методы __init__ и __str__.\n",
    "\n",
    "Создайте 2 класса-потомка: Опт(Opt) и Розница(Retail).\n",
    "В этих классах создайте методы __init__, __str__.и сумма_заказа(summa), позволяющий узнать стоимость заказа.\n",
    "Для опта стоимость единицы товара составляет 95% от цены, а при покупке более 500 штук – 90% цены.\n",
    "В розницу стоимость единицы товара составляет 100% цены. Стоимость заказа равна произведению цены на количество. \n",
    "\n",
    "Продемонстрируйте работу с классами, создав необходимые объекты и обратившись к их свойствам и методам\n"
   ]
  },
  {
   "cell_type": "code",
   "execution_count": 26,
   "metadata": {},
   "outputs": [
    {
     "name": "stdout",
     "output_type": "stream",
     "text": [
      "Code: 001, Price: 10, Count: 1000, Sum: 9000.0\n",
      "Code: 002, Price: 20, Count: 50, Sum: 1000\n"
     ]
    }
   ],
   "source": [
    "# Решение 3.\n",
    "class Order:\n",
    "    #Метод init инициализирует атрибуты объекта: код, цену, количество\n",
    "    def __init__(self, code, price, count):\n",
    "        self.code = code\n",
    "        self.price = price\n",
    "        self.count = count\n",
    "        \n",
    "    #Метод str возвращает строку с информацией о заказе\n",
    "    def __str__(self):\n",
    "        return f\"Code: {self.code}, Price: {self.price}, Count: {self.count}\"\n",
    "    \n",
    "#Класс Opt - производный класс, расширяющий класс Order\n",
    "class Opt(Order):\n",
    "    #Метод init вызывает метод init базового класса Order\n",
    "    def __init__(self, code, price, count):\n",
    "        super().__init__(code, price, count)\n",
    "\n",
    "    # Метод str вызывает метод str базового класса Order и добавляет вычисление суммы для оптового заказа    \n",
    "    def __str__(self):\n",
    "        return super().__str__() + f\", Sum: {self.summa()}\"\n",
    "\n",
    "    def summa(self):\n",
    "        if self.count > 500:\n",
    "            return self.price * self.count * 0.90\n",
    "        else:\n",
    "            return self.price * self.count * 0.95\n",
    "        \n",
    "#Класс Retail - производный класс, расширяющий класс Order\n",
    "class Retail(Order):\n",
    "    # Метод init вызывает метод init базового класса Order\n",
    "    def __init__(self, code, price, count):\n",
    "        super().__init__(code, price, count)\n",
    "\n",
    "    # Метод str вызывает метод str базового класса Order и добавляет вычисление суммы для розничного заказа  \n",
    "    def __str__(self):\n",
    "        return super().__str__() + f\", Sum: {self.summa()}\"\n",
    "\n",
    "    def summa(self):\n",
    "        return self.price * self.count\n",
    "\n",
    "# Создание оптового заказа и вывод информации о нем\n",
    "opt_order = Opt(\"001\", 10, 1000)\n",
    "print(opt_order)\n",
    "\n",
    "# Создание розничного заказа и вывод информации о нем\n",
    "retail_order = Retail(\"002\", 20, 50)\n",
    "print(retail_order)"
   ]
  },
  {
   "cell_type": "markdown",
   "metadata": {},
   "source": [
    "4. Написать функцию my_func_1(lst), которая переворачивает список вложенных списков с произвольным уровнем вложенности.\n",
    "Любой элемент, не являющийся списком, не должен быть изменен.\n",
    "\n",
    "Примеры, демонстрирующие ожидаемое поведение функции:\n",
    "\n",
    "assert my_func_1(42) == 42\n",
    "\n",
    "assert my_func_1([]) == []\n",
    "\n",
    "assert my_func_1([1, 2]) == [2, 1]\n",
    "\n",
    "assert my_func_1((1, 2)) == (1, 2)\n",
    "\n",
    "assert my_func_1([[1, 2], [3, [4, 5]], 6]) == [6, [[5, 4], 3], [2, 1]]\n",
    "\n",
    "assert my_func_1(['123', '456', '789', {10: [11, 12], 13: 14}, (15, 16)]) == [(15, 16), {10: [11, 12], 13: 14}, '789', '456', '123']\n",
    "\n",
    "assert my_func_1([[[[[1, 2]]]]]) == [[[[[2, 1]]]]]"
   ]
  },
  {
   "cell_type": "code",
   "execution_count": 25,
   "metadata": {},
   "outputs": [
    {
     "name": "stdout",
     "output_type": "stream",
     "text": [
      "Все тесты пройдены!\n"
     ]
    }
   ],
   "source": [
    "# Решение 4.\n",
    "def my_func_1(lst):\n",
    "    if not isinstance(lst, list):\n",
    "        return lst  # Если элемент не список, возвращаем его без изменений\n",
    "    return [my_func_1(item) for item in reversed(lst)] if isinstance(lst, list) else lst\n",
    "\n",
    "# Тесты для проверки корректности функции\n",
    "assert my_func_1(42) == 42\n",
    "assert my_func_1([]) == []\n",
    "assert my_func_1([1, 2]) == [2, 1]\n",
    "assert my_func_1((1, 2)) == (1, 2)  # Этот случай не изменится, так как функция работает только со списками\n",
    "assert my_func_1([[1, 2], [3, [4, 5]], 6]) == [6, [[5, 4], 3], [2, 1]]\n",
    "assert my_func_1(['123', '456', '789', {10: [11, 12], 13: 14}, (15, 16)]) == [(15, 16), {10: [11, 12], 13: 14}, '789', '456', '123']\n",
    "assert my_func_1([[[[[1, 2]]]]]) == [[[[[2, 1]]]]]\n",
    "\n",
    "print(\"Все тесты пройдены!\")"
   ]
  },
  {
   "cell_type": "markdown",
   "metadata": {},
   "source": [
    "5.При помощи механизма map/filter/reduce возвести в квадрат числа от 1 до 100, и рассчитать их сумму, не включая в сумму числа, кратные 9. Написать реализацию в одну строку."
   ]
  },
  {
   "cell_type": "code",
   "execution_count": 22,
   "metadata": {},
   "outputs": [
    {
     "data": {
      "text/plain": [
       "297364"
      ]
     },
     "execution_count": 22,
     "metadata": {},
     "output_type": "execute_result"
    }
   ],
   "source": [
    "# Решение 5.\n",
    "sum(map(lambda x: x**2, filter(lambda x: x%9!=0, range(1,101))))"
   ]
  }
 ],
 "metadata": {
  "kernelspec": {
   "display_name": "Python 3 (ipykernel)",
   "language": "python",
   "name": "python3"
  },
  "language_info": {
   "codemirror_mode": {
    "name": "ipython",
    "version": 3
   },
   "file_extension": ".py",
   "mimetype": "text/x-python",
   "name": "python",
   "nbconvert_exporter": "python",
   "pygments_lexer": "ipython3",
   "version": "3.11.5"
  }
 },
 "nbformat": 4,
 "nbformat_minor": 4
}
