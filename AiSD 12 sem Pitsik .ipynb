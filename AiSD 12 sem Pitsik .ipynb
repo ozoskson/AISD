{
 "cells": [
  {
   "cell_type": "markdown",
   "id": "d0538e2d-9774-4a8b-9883-32c1545f9c3a",
   "metadata": {},
   "source": [
    "1) При помощи стека (можно использовать любую реализацию стека, например, из лекции) проверить, что в строке, содержащей большой фрагмент кода на python, корректно открываются и закрываются скобки '(' и ')'. Заводить какие-либо счетчики и вообще вести подсчет скобок запрещено. \n",
    "Например, в следующей строке корректное количество скобок: \n",
    "'((dsasdas((das(d)das)d)asd)da)' \n",
    "А вот в следующей закрывающих больше, чем открывающих:\n",
    "'(f(gfhd((hgfdg((fghh)dads)das))ds)adddads())))' "
   ]
  },
  {
   "cell_type": "code",
   "execution_count": 2,
   "id": "752247b7-9a28-4287-a2d7-7805f7459822",
   "metadata": {},
   "outputs": [
    {
     "name": "stdin",
     "output_type": "stream",
     "text": [
      " (f(gfhd((hgfdg((fghh)dads)das))ds)adddads())))\n"
     ]
    },
    {
     "name": "stdout",
     "output_type": "stream",
     "text": [
      "Некорректное количество скобочек\n"
     ]
    }
   ],
   "source": [
    "line = input()\n",
    "stack = []\n",
    "t_f = False\n",
    "for element in line:\n",
    "    if element == '(':\n",
    "        stack.append(element)\n",
    "    elif element == ')':\n",
    "        if not stack:\n",
    "            print('Некорректное количество скобочек')\n",
    "            t_f = True\n",
    "            break\n",
    "        stack.pop()\n",
    "\n",
    "if not t_f and not stack:\n",
    "    print('Корректное количество скобочек')\n",
    "elif not t_f:\n",
    "    print('Некорректное количество скобочек')"
   ]
  },
  {
   "cell_type": "markdown",
   "id": "efaa1ce2-e6ab-41f2-9afb-c976525438c0",
   "metadata": {},
   "source": [
    "2) С помощью списка (list) реализовать стек. При создании стека нужно передать максимальную длину стека. В случае попытки добавления элемента, приводящего к превышению емкости стека возвращать ошибку. \n",
    "Стек должен поддерживать следующие операции: \n",
    "S.push(e): добавление элемента e на вершину стека S. \n",
    "S.pop(): удаляет и возвращает верхний элемент стека S. Если стек пуст, то возникает ошибка. \n",
    "S.top(): возвращает верхний элемент стека S, не удаляя его. Если стек пуст, то возникает ошибка. \n",
    "S.is_empty( ): возвращает True если стек S не содержит ни одного элемента. \n",
    "len(S): возвращает текущеее количество элементов в стеке S. "
   ]
  },
  {
   "cell_type": "code",
   "execution_count": 4,
   "id": "bf46720b-afe6-4fc2-b056-938704fb059b",
   "metadata": {},
   "outputs": [
    {
     "name": "stdout",
     "output_type": "stream",
     "text": [
      "3\n",
      "2\n",
      "False\n",
      "2\n"
     ]
    },
    {
     "ename": "Exception",
     "evalue": "Стек переполнен",
     "output_type": "error",
     "traceback": [
      "\u001b[1;31m---------------------------------------------------------------------------\u001b[0m",
      "\u001b[1;31mException\u001b[0m                                 Traceback (most recent call last)",
      "Cell \u001b[1;32mIn[4], line 41\u001b[0m\n\u001b[0;32m     39\u001b[0m s\u001b[38;5;241m.\u001b[39mpush(\u001b[38;5;241m5\u001b[39m)\n\u001b[0;32m     40\u001b[0m s\u001b[38;5;241m.\u001b[39mpush(\u001b[38;5;241m6\u001b[39m)\n\u001b[1;32m---> 41\u001b[0m \u001b[43ms\u001b[49m\u001b[38;5;241;43m.\u001b[39;49m\u001b[43mpush\u001b[49m\u001b[43m(\u001b[49m\u001b[38;5;241;43m7\u001b[39;49m\u001b[43m)\u001b[49m\n",
      "Cell \u001b[1;32mIn[4], line 14\u001b[0m, in \u001b[0;36mStack.push\u001b[1;34m(self, e)\u001b[0m\n\u001b[0;32m     12\u001b[0m \u001b[38;5;28;01mdef\u001b[39;00m \u001b[38;5;21mpush\u001b[39m(\u001b[38;5;28mself\u001b[39m, e):\n\u001b[0;32m     13\u001b[0m     \u001b[38;5;28;01mif\u001b[39;00m \u001b[38;5;28mlen\u001b[39m(\u001b[38;5;28mself\u001b[39m\u001b[38;5;241m.\u001b[39mstack) \u001b[38;5;241m>\u001b[39m\u001b[38;5;241m=\u001b[39m \u001b[38;5;28mself\u001b[39m\u001b[38;5;241m.\u001b[39mfull:\n\u001b[1;32m---> 14\u001b[0m         \u001b[38;5;28;01mraise\u001b[39;00m \u001b[38;5;167;01mException\u001b[39;00m(\u001b[38;5;124m\"\u001b[39m\u001b[38;5;124mСтек переполнен\u001b[39m\u001b[38;5;124m\"\u001b[39m)\n\u001b[0;32m     15\u001b[0m     \u001b[38;5;28mself\u001b[39m\u001b[38;5;241m.\u001b[39mstack\u001b[38;5;241m.\u001b[39mappend(e)\n",
      "\u001b[1;31mException\u001b[0m: Стек переполнен"
     ]
    }
   ],
   "source": [
    "class Stack:\n",
    "    def __init__(self, full):\n",
    "        self.full = full\n",
    "        self.stack = []\n",
    "\n",
    "    def __len__(self):\n",
    "        return len(self.stack)\n",
    "\n",
    "    def is_empty(self):\n",
    "        return len(self.stack) == 0\n",
    "\n",
    "    def push(self, e):\n",
    "        if len(self.stack) >= self.full:\n",
    "            raise Exception(\"Стек переполнен\")\n",
    "        self.stack.append(e)\n",
    "\n",
    "    def pop(self):\n",
    "        if self.is_empty():\n",
    "            raise Exception(\"Стек пуст\")\n",
    "        return self.stack.pop()\n",
    "\n",
    "    def top(self):\n",
    "        if self.is_empty():\n",
    "            raise Exception(\"Стек пуст\")\n",
    "        return self.stack[-1]\n",
    "\n",
    "\n",
    "s = Stack(5)\n",
    "s.push(1)\n",
    "s.push(2)\n",
    "s.push(3)\n",
    "\n",
    "print(s.pop()) \n",
    "print(s.top()) \n",
    "print(s.is_empty())  \n",
    "print(len(s)) \n",
    "\n",
    "s.push(4)\n",
    "s.push(5)\n",
    "s.push(6)\n",
    "s.push(7)"
   ]
  },
  {
   "cell_type": "markdown",
   "id": "d9eaa438-a927-4502-87e8-d2e9863cd024",
   "metadata": {},
   "source": [
    "3) Реализовать класс однонаправленного связанного списка.\n",
    "   3.1) Реализовать метод добавления элемента в начало списка.   "
   ]
  },
  {
   "cell_type": "code",
   "execution_count": 5,
   "id": "f2b2f4bd-e798-407e-bfd1-855a16669776",
   "metadata": {},
   "outputs": [
    {
     "name": "stdout",
     "output_type": "stream",
     "text": [
      "6->7->8\n"
     ]
    }
   ],
   "source": [
    "class Node:\n",
    "    def __init__(self, data=None):\n",
    "        self.data = data  # Данные, хранящиеся в узле\n",
    "        self.next = None  # Ссылка на следующий узел в списке\n",
    "class LinkedList:\n",
    "    def __init__(self):\n",
    "        self.head = None  # Голова списка, изначально список пуст\n",
    "\n",
    "    def prepend(self, data):\n",
    "        new_head = Node(data)\n",
    "        new_head.next = self.head\n",
    "        self.head = new_head\n",
    "\n",
    "    def display(self):\n",
    "        elements = []\n",
    "        current = self.head\n",
    "        while current:\n",
    "            elements.append(current.data)\n",
    "            current = current.next\n",
    "        print(\"->\".join(map(str, elements)))\n",
    "\n",
    "new = LinkedList()\n",
    "new.prepend(8)\n",
    "new.prepend(7)\n",
    "new.prepend(6)\n",
    "new.display()"
   ]
  },
  {
   "cell_type": "markdown",
   "id": "4b0119e4-d09e-43f8-b078-7d06897a0488",
   "metadata": {},
   "source": [
    "4) На базе класса однонаправленного связанного списка реализовать двунаправленный связанный список.  \n",
    "    4.1) Реализовать метод добавления элемента в начало списка.  "
   ]
  },
  {
   "cell_type": "code",
   "execution_count": 6,
   "id": "c0e88185-9aad-479c-9172-23fc62750c10",
   "metadata": {},
   "outputs": [
    {
     "name": "stdout",
     "output_type": "stream",
     "text": [
      "5 <-> 6 <-> 7 <-> 8\n"
     ]
    }
   ],
   "source": [
    "class Node:\n",
    "    def __init__(self, data=None, next=None, pred=None):\n",
    "        self.data = data  # Данные, хранящиеся в узле\n",
    "        self.next = next  # Ссылка на следующий узел\n",
    "        self.pred = pred  # Ссылка на предыдущий узел\n",
    "        \n",
    "class DoublyLinkedList:\n",
    "    def __init__(self):\n",
    "        self.head = None  # Голова списка, изначально пустая\n",
    "        self.tail = None  # Хвост списка, изначально пустой\n",
    "\n",
    "    def prepend(self, data):\n",
    "        \"\"\"Добавляет элемент в начало списка\"\"\"\n",
    "        new_node = Node(data, next=self.head)\n",
    "        if self.head:\n",
    "            self.head.pred = new_node\n",
    "        self.head = new_node\n",
    "        if self.tail is None:\n",
    "            self.tail = new_node\n",
    "    def display(self):\n",
    "        \"\"\"Выводит все элементы списка от головы к хвосту\"\"\"\n",
    "        current = self.head\n",
    "        while current:\n",
    "            print(current.data, end=' <-> ' if current.next else '')\n",
    "            current = current.next\n",
    "        print()\n",
    "\n",
    "\n",
    "new = DoublyLinkedList()\n",
    "new.prepend(8)  \n",
    "new.prepend(7)\n",
    "new.prepend(6)  \n",
    "new.prepend(5)\n",
    "new.display()"
   ]
  },
  {
   "cell_type": "markdown",
   "id": "df35755d-ec68-468a-b99a-d6ea69915d9b",
   "metadata": {},
   "source": [
    "5) При помощи класса связанного списка реализовать очередь."
   ]
  },
  {
   "cell_type": "code",
   "execution_count": 7,
   "id": "8391d90d-8b73-4b9c-8d93-a6227c31bb59",
   "metadata": {},
   "outputs": [
    {
     "name": "stdout",
     "output_type": "stream",
     "text": [
      "1\n",
      "2\n",
      "3\n",
      "4\n"
     ]
    }
   ],
   "source": [
    "class Node:\n",
    "    def __init__(self, data):\n",
    "        self.data = data\n",
    "        self.next = None\n",
    "class Queue:\n",
    "    def __init__(self):\n",
    "        self.tail = None\n",
    "        self.head = None\n",
    "    def enqueue(self, data):\n",
    "        new_mode = Node(data)\n",
    "        if not self.head:\n",
    "            self.head = new_mode\n",
    "            self.tail = new_mode\n",
    "        else:\n",
    "            self.tail.next = new_mode\n",
    "            self.tail = new_mode\n",
    "    def dequeue(self):\n",
    "        if not self.head:\n",
    "            raise ValueError('Queue is empty')\n",
    "        data = self.head.data\n",
    "        self.head = self.head.next\n",
    "        if not self.head:\n",
    "            self.tail = None\n",
    "        return data\n",
    "    def is_empty(self):\n",
    "        return not self.head\n",
    "\n",
    "q = Queue()\n",
    "q.enqueue(1)\n",
    "q.enqueue(2)           \n",
    "q.enqueue(3)\n",
    "\n",
    "print(q.dequeue())\n",
    "print(q.dequeue())\n",
    "q.enqueue(4)\n",
    "print(q.dequeue())\n",
    "print(q.dequeue())"
   ]
  },
  {
   "cell_type": "code",
   "execution_count": null,
   "id": "e37678dd-bcc1-454b-b6bd-0d7f941914d7",
   "metadata": {},
   "outputs": [],
   "source": []
  }
 ],
 "metadata": {
  "kernelspec": {
   "display_name": "Python 3 (ipykernel)",
   "language": "python",
   "name": "python3"
  },
  "language_info": {
   "codemirror_mode": {
    "name": "ipython",
    "version": 3
   },
   "file_extension": ".py",
   "mimetype": "text/x-python",
   "name": "python",
   "nbconvert_exporter": "python",
   "pygments_lexer": "ipython3",
   "version": "3.12.2"
  }
 },
 "nbformat": 4,
 "nbformat_minor": 5
}
